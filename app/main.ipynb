{
 "cells": [
  {
   "cell_type": "code",
   "metadata": {
    "collapsed": true,
    "pycharm": {
     "name": "#%%\n"
    },
    "ExecuteTime": {
     "end_time": "2024-11-12T13:43:57.936519Z",
     "start_time": "2024-11-12T13:43:57.928564Z"
    }
   },
   "source": [
    "from os import write\n",
    "\n",
    "import pandas as pd\n",
    "import numpy as np\n",
    "import sqlite3\n",
    "import csv\n",
    "import matplotlib.pyplot as plt"
   ],
   "outputs": [],
   "execution_count": 66
  },
  {
   "cell_type": "markdown",
   "source": [
    "    # Task 0\n",
    "Data extraction: get the data from 3 tables & combine it into single `.csv` file.\n",
    "After that read this file using pandas to create Dataframe.\n",
    "So it will be all joined data in 1 dataframe. Quick check - should be 74818 rows in it."
   ],
   "metadata": {
    "collapsed": false,
    "pycharm": {
     "name": "#%% md\n"
    }
   }
  },
  {
   "cell_type": "code",
   "source": [
    "# write your code here\n",
    "db_path = \"../db.sqlite3\"\n",
    "csv_file_path = \"combined_data.csv\"\n",
    "query_all = \"\"\"\n",
    "    SELECT\n",
    "    o.id AS order_id,\n",
    "    o.datetime AS order_datetime,\n",
    "    p.id AS product_id,\n",
    "    p.name AS product_name,\n",
    "    p.price AS product_price,\n",
    "    oi.quantity AS quantity,\n",
    "    (p.price * oi.quantity) AS total_price\n",
    "FROM\n",
    "    restaurant_orderitem oi\n",
    "JOIN\n",
    "    restaurant_order o ON oi.order_id = o.id\n",
    "JOIN\n",
    "    restaurant_product p ON oi.product_id = p.id\n",
    "ORDER BY\n",
    "    o.datetime, o.id;\n",
    "\"\"\"\n",
    "\n",
    "with sqlite3.connect(db_path) as conn:\n",
    "    cursor = conn.cursor()\n",
    "    cursor.execute(query_all)\n",
    "    rows = cursor.fetchall()\n",
    "    column_names = [description[0] for description in cursor.description]\n",
    "    with open(csv_file_path, mode=\"w\", newline=\"\", encoding=\"utf-8\") as file:\n",
    "        writer = csv.writer(file)\n",
    "        writer.writerow(column_names)\n",
    "        writer.writerows(rows)"
   ],
   "metadata": {
    "collapsed": false,
    "pycharm": {
     "name": "#%%\n"
    },
    "ExecuteTime": {
     "end_time": "2024-11-12T13:43:58.189675Z",
     "start_time": "2024-11-12T13:43:57.952197Z"
    }
   },
   "outputs": [],
   "execution_count": 67
  },
  {
   "metadata": {
    "ExecuteTime": {
     "end_time": "2024-11-12T13:43:58.263746Z",
     "start_time": "2024-11-12T13:43:58.204233Z"
    }
   },
   "cell_type": "code",
   "source": [
    "restaurant_df = pd.read_csv(\"combined_data.csv\")\n",
    "restaurant_df.head()"
   ],
   "outputs": [
    {
     "data": {
      "text/plain": [
       "   order_id       order_datetime  product_id product_name  product_price  \\\n",
       "0     12392  2015-09-01 14:42:00          52  Onion Bhaji           3.95   \n",
       "1     12391  2015-09-08 17:12:00          52  Onion Bhaji           3.95   \n",
       "2     12390  2015-09-08 17:31:00          52  Onion Bhaji           3.95   \n",
       "3     12389  2015-09-08 17:56:00          52  Onion Bhaji           3.95   \n",
       "4     12388  2015-09-09 09:31:00          52  Onion Bhaji           3.95   \n",
       "\n",
       "   quantity  total_price  \n",
       "0         1         3.95  \n",
       "1         1         3.95  \n",
       "2         1         3.95  \n",
       "3         1         3.95  \n",
       "4         1         3.95  "
      ],
      "text/html": [
       "<div>\n",
       "<style scoped>\n",
       "    .dataframe tbody tr th:only-of-type {\n",
       "        vertical-align: middle;\n",
       "    }\n",
       "\n",
       "    .dataframe tbody tr th {\n",
       "        vertical-align: top;\n",
       "    }\n",
       "\n",
       "    .dataframe thead th {\n",
       "        text-align: right;\n",
       "    }\n",
       "</style>\n",
       "<table border=\"1\" class=\"dataframe\">\n",
       "  <thead>\n",
       "    <tr style=\"text-align: right;\">\n",
       "      <th></th>\n",
       "      <th>order_id</th>\n",
       "      <th>order_datetime</th>\n",
       "      <th>product_id</th>\n",
       "      <th>product_name</th>\n",
       "      <th>product_price</th>\n",
       "      <th>quantity</th>\n",
       "      <th>total_price</th>\n",
       "    </tr>\n",
       "  </thead>\n",
       "  <tbody>\n",
       "    <tr>\n",
       "      <th>0</th>\n",
       "      <td>12392</td>\n",
       "      <td>2015-09-01 14:42:00</td>\n",
       "      <td>52</td>\n",
       "      <td>Onion Bhaji</td>\n",
       "      <td>3.95</td>\n",
       "      <td>1</td>\n",
       "      <td>3.95</td>\n",
       "    </tr>\n",
       "    <tr>\n",
       "      <th>1</th>\n",
       "      <td>12391</td>\n",
       "      <td>2015-09-08 17:12:00</td>\n",
       "      <td>52</td>\n",
       "      <td>Onion Bhaji</td>\n",
       "      <td>3.95</td>\n",
       "      <td>1</td>\n",
       "      <td>3.95</td>\n",
       "    </tr>\n",
       "    <tr>\n",
       "      <th>2</th>\n",
       "      <td>12390</td>\n",
       "      <td>2015-09-08 17:31:00</td>\n",
       "      <td>52</td>\n",
       "      <td>Onion Bhaji</td>\n",
       "      <td>3.95</td>\n",
       "      <td>1</td>\n",
       "      <td>3.95</td>\n",
       "    </tr>\n",
       "    <tr>\n",
       "      <th>3</th>\n",
       "      <td>12389</td>\n",
       "      <td>2015-09-08 17:56:00</td>\n",
       "      <td>52</td>\n",
       "      <td>Onion Bhaji</td>\n",
       "      <td>3.95</td>\n",
       "      <td>1</td>\n",
       "      <td>3.95</td>\n",
       "    </tr>\n",
       "    <tr>\n",
       "      <th>4</th>\n",
       "      <td>12388</td>\n",
       "      <td>2015-09-09 09:31:00</td>\n",
       "      <td>52</td>\n",
       "      <td>Onion Bhaji</td>\n",
       "      <td>3.95</td>\n",
       "      <td>1</td>\n",
       "      <td>3.95</td>\n",
       "    </tr>\n",
       "  </tbody>\n",
       "</table>\n",
       "</div>"
      ]
     },
     "execution_count": 68,
     "metadata": {},
     "output_type": "execute_result"
    }
   ],
   "execution_count": 68
  },
  {
   "cell_type": "markdown",
   "source": [
    "# Task 1\n",
    "Get Top 10 most popular products in restaurant sold by Quantity.\n",
    "Count how many times each product was sold and create a pie chart with percentage of popularity (by quantity) for top 10 of them.\n",
    "\n",
    "Example:\n",
    "\n",
    "![pie chart](../demo/pie.png)"
   ],
   "metadata": {
    "collapsed": false,
    "pycharm": {
     "name": "#%% md\n"
    }
   }
  },
  {
   "cell_type": "code",
   "source": [
    "# write your code here\n",
    "products_quantity = (\n",
    "    restaurant_df.groupby([\"product_name\", \"product_price\"])[\"quantity\"].sum().reset_index())\n",
    "\n",
    "top_10_products = products_quantity.sort_values(by=\"quantity\", ascending=False)[:10]\n",
    "all_quantity = top_10_products[\"quantity\"].sum()\n",
    "top_10_products[\"percentage\"] \\\n",
    "    = ((top_10_products[\"quantity\"] / all_quantity) * 100).round(1).astype(str) + \" %\"\n",
    "top_10_products"
   ],
   "metadata": {
    "collapsed": false,
    "pycharm": {
     "name": "#%%\n"
    },
    "ExecuteTime": {
     "end_time": "2024-11-12T13:43:58.330804Z",
     "start_time": "2024-11-12T13:43:58.311931Z"
    }
   },
   "outputs": [
    {
     "data": {
      "text/plain": [
       "             product_name  product_price  quantity percentage\n",
       "188         Plain Papadum           0.80     10648     26.8 %\n",
       "186            Pilau Rice           2.95      6367     16.0 %\n",
       "187            Plain Naan           2.60      4983     12.5 %\n",
       "81            Garlic Naan           2.95      3318      8.3 %\n",
       "189            Plain Rice           2.95      2964      7.5 %\n",
       "165          Onion Bhajee           3.95      2749      6.9 %\n",
       "144         Mango Chutney           0.50      2504      6.3 %\n",
       "52   Chicken Tikka Masala           8.95      2473      6.2 %\n",
       "26                Chapati           1.95      1935      4.9 %\n",
       "153            Mint Sauce           0.50      1840      4.6 %"
      ],
      "text/html": [
       "<div>\n",
       "<style scoped>\n",
       "    .dataframe tbody tr th:only-of-type {\n",
       "        vertical-align: middle;\n",
       "    }\n",
       "\n",
       "    .dataframe tbody tr th {\n",
       "        vertical-align: top;\n",
       "    }\n",
       "\n",
       "    .dataframe thead th {\n",
       "        text-align: right;\n",
       "    }\n",
       "</style>\n",
       "<table border=\"1\" class=\"dataframe\">\n",
       "  <thead>\n",
       "    <tr style=\"text-align: right;\">\n",
       "      <th></th>\n",
       "      <th>product_name</th>\n",
       "      <th>product_price</th>\n",
       "      <th>quantity</th>\n",
       "      <th>percentage</th>\n",
       "    </tr>\n",
       "  </thead>\n",
       "  <tbody>\n",
       "    <tr>\n",
       "      <th>188</th>\n",
       "      <td>Plain Papadum</td>\n",
       "      <td>0.80</td>\n",
       "      <td>10648</td>\n",
       "      <td>26.8 %</td>\n",
       "    </tr>\n",
       "    <tr>\n",
       "      <th>186</th>\n",
       "      <td>Pilau Rice</td>\n",
       "      <td>2.95</td>\n",
       "      <td>6367</td>\n",
       "      <td>16.0 %</td>\n",
       "    </tr>\n",
       "    <tr>\n",
       "      <th>187</th>\n",
       "      <td>Plain Naan</td>\n",
       "      <td>2.60</td>\n",
       "      <td>4983</td>\n",
       "      <td>12.5 %</td>\n",
       "    </tr>\n",
       "    <tr>\n",
       "      <th>81</th>\n",
       "      <td>Garlic Naan</td>\n",
       "      <td>2.95</td>\n",
       "      <td>3318</td>\n",
       "      <td>8.3 %</td>\n",
       "    </tr>\n",
       "    <tr>\n",
       "      <th>189</th>\n",
       "      <td>Plain Rice</td>\n",
       "      <td>2.95</td>\n",
       "      <td>2964</td>\n",
       "      <td>7.5 %</td>\n",
       "    </tr>\n",
       "    <tr>\n",
       "      <th>165</th>\n",
       "      <td>Onion Bhajee</td>\n",
       "      <td>3.95</td>\n",
       "      <td>2749</td>\n",
       "      <td>6.9 %</td>\n",
       "    </tr>\n",
       "    <tr>\n",
       "      <th>144</th>\n",
       "      <td>Mango Chutney</td>\n",
       "      <td>0.50</td>\n",
       "      <td>2504</td>\n",
       "      <td>6.3 %</td>\n",
       "    </tr>\n",
       "    <tr>\n",
       "      <th>52</th>\n",
       "      <td>Chicken Tikka Masala</td>\n",
       "      <td>8.95</td>\n",
       "      <td>2473</td>\n",
       "      <td>6.2 %</td>\n",
       "    </tr>\n",
       "    <tr>\n",
       "      <th>26</th>\n",
       "      <td>Chapati</td>\n",
       "      <td>1.95</td>\n",
       "      <td>1935</td>\n",
       "      <td>4.9 %</td>\n",
       "    </tr>\n",
       "    <tr>\n",
       "      <th>153</th>\n",
       "      <td>Mint Sauce</td>\n",
       "      <td>0.50</td>\n",
       "      <td>1840</td>\n",
       "      <td>4.6 %</td>\n",
       "    </tr>\n",
       "  </tbody>\n",
       "</table>\n",
       "</div>"
      ]
     },
     "execution_count": 69,
     "metadata": {},
     "output_type": "execute_result"
    }
   ],
   "execution_count": 69
  },
  {
   "metadata": {
    "ExecuteTime": {
     "end_time": "2024-11-12T13:44:10.226091Z",
     "start_time": "2024-11-12T13:44:10.156441Z"
    }
   },
   "cell_type": "code",
   "source": [
    "plt.figure(figsize=(8, 5))\n",
    "plt.pie(\n",
    "    top_10_products[\"quantity\"],  # Values for the pie chart\n",
    "    labels=top_10_products[\"product_name\"],  # Labels for each slice\n",
    "    autopct=\"%1.1f%%\",  # Display percentages with 1 decimal place\n",
    ")\n",
    "plt.title(\"Top 10 positions in meny by quantity\")\n",
    "plt.show()"
   ],
   "outputs": [
    {
     "data": {
      "text/plain": [
       "<Figure size 800x500 with 1 Axes>"
      ],
      "image/png": "[encoded data removed]"
     },
     "metadata": {},
     "output_type": "display_data"
    }
   ],
   "execution_count": 77
  },
  {
   "cell_type": "markdown",
   "source": [
    "# Task 2\n",
    "Calculate `Item Price` (Product Price * Quantity) for each Order Item in dataframe.\n",
    "And Make the same Top 10 pie chart, but this time by `Item Price`. So this chart should describe not the most popular products by quantity, but which products (top 10) make the most money for restaurant. It should be also with percentage."
   ],
   "metadata": {
    "collapsed": false,
    "pycharm": {
     "name": "#%% md\n"
    }
   }
  },
  {
   "cell_type": "code",
   "source": [
    "# write your code here\n",
    "products_quantity[\"item_price\"] = products_quantity[\"product_price\"] * products_quantity[\"quantity\"]\n",
    "top_10_prices = products_quantity.sort_values(by=\"item_price\", ascending=False).head(10)\n",
    "\n",
    "total_item_prices = top_10_prices[\"item_price\"].sum()\n",
    "\n",
    "top_10_prices[\"prices_percentage\"] = (top_10_prices[\"item_price\"] / total_item_prices) * 100\n",
    "top_10_prices"
   ],
   "metadata": {
    "collapsed": false,
    "pycharm": {
     "name": "#%%\n",
     "is_executing": true
    },
    "ExecuteTime": {
     "end_time": "2024-11-12T13:43:58.600081Z",
     "start_time": "2024-11-12T13:43:58.589737Z"
    }
   },
   "outputs": [
    {
     "data": {
      "text/plain": [
       "             product_name  product_price  quantity  item_price  \\\n",
       "52   Chicken Tikka Masala           8.95      2473    22133.35   \n",
       "186            Pilau Rice           2.95      6367    18782.65   \n",
       "187            Plain Naan           2.60      4983    12955.80   \n",
       "97                  Korma           8.95      1370    12261.50   \n",
       "16            Bombay Aloo           5.95      1831    10894.45   \n",
       "165          Onion Bhajee           3.95      2749    10858.55   \n",
       "20         Butter Chicken           9.95      1068    10626.60   \n",
       "81            Garlic Naan           2.95      3318     9788.10   \n",
       "98        Korma - Chicken           8.95      1091     9764.45   \n",
       "189            Plain Rice           2.95      2964     8743.80   \n",
       "\n",
       "     prices_percentage  \n",
       "52           17.454050  \n",
       "186          14.811735  \n",
       "187          10.216763  \n",
       "97            9.669247  \n",
       "16            8.591211  \n",
       "165           8.562901  \n",
       "20            8.379988  \n",
       "81            7.718759  \n",
       "98            7.700109  \n",
       "189           6.895238  "
      ],
      "text/html": [
       "<div>\n",
       "<style scoped>\n",
       "    .dataframe tbody tr th:only-of-type {\n",
       "        vertical-align: middle;\n",
       "    }\n",
       "\n",
       "    .dataframe tbody tr th {\n",
       "        vertical-align: top;\n",
       "    }\n",
       "\n",
       "    .dataframe thead th {\n",
       "        text-align: right;\n",
       "    }\n",
       "</style>\n",
       "<table border=\"1\" class=\"dataframe\">\n",
       "  <thead>\n",
       "    <tr style=\"text-align: right;\">\n",
       "      <th></th>\n",
       "      <th>product_name</th>\n",
       "      <th>product_price</th>\n",
       "      <th>quantity</th>\n",
       "      <th>item_price</th>\n",
       "      <th>prices_percentage</th>\n",
       "    </tr>\n",
       "  </thead>\n",
       "  <tbody>\n",
       "    <tr>\n",
       "      <th>52</th>\n",
       "      <td>Chicken Tikka Masala</td>\n",
       "      <td>8.95</td>\n",
       "      <td>2473</td>\n",
       "      <td>22133.35</td>\n",
       "      <td>17.454050</td>\n",
       "    </tr>\n",
       "    <tr>\n",
       "      <th>186</th>\n",
       "      <td>Pilau Rice</td>\n",
       "      <td>2.95</td>\n",
       "      <td>6367</td>\n",
       "      <td>18782.65</td>\n",
       "      <td>14.811735</td>\n",
       "    </tr>\n",
       "    <tr>\n",
       "      <th>187</th>\n",
       "      <td>Plain Naan</td>\n",
       "      <td>2.60</td>\n",
       "      <td>4983</td>\n",
       "      <td>12955.80</td>\n",
       "      <td>10.216763</td>\n",
       "    </tr>\n",
       "    <tr>\n",
       "      <th>97</th>\n",
       "      <td>Korma</td>\n",
       "      <td>8.95</td>\n",
       "      <td>1370</td>\n",
       "      <td>12261.50</td>\n",
       "      <td>9.669247</td>\n",
       "    </tr>\n",
       "    <tr>\n",
       "      <th>16</th>\n",
       "      <td>Bombay Aloo</td>\n",
       "      <td>5.95</td>\n",
       "      <td>1831</td>\n",
       "      <td>10894.45</td>\n",
       "      <td>8.591211</td>\n",
       "    </tr>\n",
       "    <tr>\n",
       "      <th>165</th>\n",
       "      <td>Onion Bhajee</td>\n",
       "      <td>3.95</td>\n",
       "      <td>2749</td>\n",
       "      <td>10858.55</td>\n",
       "      <td>8.562901</td>\n",
       "    </tr>\n",
       "    <tr>\n",
       "      <th>20</th>\n",
       "      <td>Butter Chicken</td>\n",
       "      <td>9.95</td>\n",
       "      <td>1068</td>\n",
       "      <td>10626.60</td>\n",
       "      <td>8.379988</td>\n",
       "    </tr>\n",
       "    <tr>\n",
       "      <th>81</th>\n",
       "      <td>Garlic Naan</td>\n",
       "      <td>2.95</td>\n",
       "      <td>3318</td>\n",
       "      <td>9788.10</td>\n",
       "      <td>7.718759</td>\n",
       "    </tr>\n",
       "    <tr>\n",
       "      <th>98</th>\n",
       "      <td>Korma - Chicken</td>\n",
       "      <td>8.95</td>\n",
       "      <td>1091</td>\n",
       "      <td>9764.45</td>\n",
       "      <td>7.700109</td>\n",
       "    </tr>\n",
       "    <tr>\n",
       "      <th>189</th>\n",
       "      <td>Plain Rice</td>\n",
       "      <td>2.95</td>\n",
       "      <td>2964</td>\n",
       "      <td>8743.80</td>\n",
       "      <td>6.895238</td>\n",
       "    </tr>\n",
       "  </tbody>\n",
       "</table>\n",
       "</div>"
      ]
     },
     "execution_count": 71,
     "metadata": {},
     "output_type": "execute_result"
    }
   ],
   "execution_count": 71
  },
  {
   "metadata": {
    "ExecuteTime": {
     "end_time": "2024-11-12T13:43:58.728406Z",
     "start_time": "2024-11-12T13:43:58.657195Z"
    }
   },
   "cell_type": "code",
   "source": [
    "plt.figure(figsize=(10, 6))\n",
    "plt.pie(\n",
    "    top_10_prices[\"item_price\"],\n",
    "    labels=top_10_prices[\"product_name\"],\n",
    "    autopct=\"%1.1f%%\",\n",
    ")\n",
    "plt.title(\"Top 10 positions in meny by prices\")\n",
    "plt.show()"
   ],
   "outputs": [
    {
     "data": {
      "text/plain": [
       "<Figure size 1000x600 with 1 Axes>"
      ],
      "image/png": "[encoded data removed]"
     },
     "metadata": {},
     "output_type": "display_data"
    }
   ],
   "execution_count": 72
  },
  {
   "cell_type": "markdown",
   "source": [
    "# Task 3\n",
    "Calculate `Order Hour` based on `Order Datetime`, which will tell about the specific hour the order was created (from 0 to 23). Using `Order Hour` create a bar chart, which will tell the total restaurant income based on the hour order was created. So on x-axis - it will be values from 0 to 23 (hours), on y-axis - it will be the total sum of order prices, which were sold on that hour.\n",
    "\n",
    "Example:\n",
    "\n",
    "![bar chart](../demo/bar.png)"
   ],
   "metadata": {
    "collapsed": false,
    "pycharm": {
     "name": "#%% md\n"
    }
   }
  },
  {
   "cell_type": "code",
   "source": [
    "# write your code here\n",
    "restaurant_df[\"order_datetime\"] = pd.to_datetime(restaurant_df[\"order_datetime\"])\n",
    "restaurant_df[\"order_hour\"] = restaurant_df[\"order_datetime\"].dt.hour\n",
    "restaurant_df"
   ],
   "metadata": {
    "collapsed": false,
    "pycharm": {
     "name": "#%%\n"
    },
    "ExecuteTime": {
     "end_time": "2024-11-12T13:43:58.806392Z",
     "start_time": "2024-11-12T13:43:58.770367Z"
    }
   },
   "outputs": [
    {
     "data": {
      "text/plain": [
       "       order_id      order_datetime  product_id         product_name  \\\n",
       "0         12392 2015-09-01 14:42:00          52          Onion Bhaji   \n",
       "1         12391 2015-09-08 17:12:00          52          Onion Bhaji   \n",
       "2         12390 2015-09-08 17:31:00          52          Onion Bhaji   \n",
       "3         12389 2015-09-08 17:56:00          52          Onion Bhaji   \n",
       "4         12388 2015-09-09 09:31:00          52          Onion Bhaji   \n",
       "...         ...                 ...         ...                  ...   \n",
       "74813         1 2019-08-03 20:25:00         240     King Prawn Balti   \n",
       "74814         1 2019-08-03 20:25:00          19          Garlic Naan   \n",
       "74815         1 2019-08-03 20:25:00          36        Mushroom Rice   \n",
       "74816         1 2019-08-03 20:25:00         111  Paneer Tikka Masala   \n",
       "74817         1 2019-08-03 20:25:00           3        Mango Chutney   \n",
       "\n",
       "       product_price  quantity  total_price  order_hour  \n",
       "0               3.95         1         3.95          14  \n",
       "1               3.95         1         3.95          17  \n",
       "2               3.95         1         3.95          17  \n",
       "3               3.95         1         3.95          17  \n",
       "4               3.95         1         3.95           9  \n",
       "...              ...       ...          ...         ...  \n",
       "74813          12.95         1        12.95          20  \n",
       "74814           2.95         1         2.95          20  \n",
       "74815           3.95         1         3.95          20  \n",
       "74816           8.95         1         8.95          20  \n",
       "74817           0.50         1         0.50          20  \n",
       "\n",
       "[74818 rows x 8 columns]"
      ],
      "text/html": [
       "<div>\n",
       "<style scoped>\n",
       "    .dataframe tbody tr th:only-of-type {\n",
       "        vertical-align: middle;\n",
       "    }\n",
       "\n",
       "    .dataframe tbody tr th {\n",
       "        vertical-align: top;\n",
       "    }\n",
       "\n",
       "    .dataframe thead th {\n",
       "        text-align: right;\n",
       "    }\n",
       "</style>\n",
       "<table border=\"1\" class=\"dataframe\">\n",
       "  <thead>\n",
       "    <tr style=\"text-align: right;\">\n",
       "      <th></th>\n",
       "      <th>order_id</th>\n",
       "      <th>order_datetime</th>\n",
       "      <th>product_id</th>\n",
       "      <th>product_name</th>\n",
       "      <th>product_price</th>\n",
       "      <th>quantity</th>\n",
       "      <th>total_price</th>\n",
       "      <th>order_hour</th>\n",
       "    </tr>\n",
       "  </thead>\n",
       "  <tbody>\n",
       "    <tr>\n",
       "      <th>0</th>\n",
       "      <td>12392</td>\n",
       "      <td>2015-09-01 14:42:00</td>\n",
       "      <td>52</td>\n",
       "      <td>Onion Bhaji</td>\n",
       "      <td>3.95</td>\n",
       "      <td>1</td>\n",
       "      <td>3.95</td>\n",
       "      <td>14</td>\n",
       "    </tr>\n",
       "    <tr>\n",
       "      <th>1</th>\n",
       "      <td>12391</td>\n",
       "      <td>2015-09-08 17:12:00</td>\n",
       "      <td>52</td>\n",
       "      <td>Onion Bhaji</td>\n",
       "      <td>3.95</td>\n",
       "      <td>1</td>\n",
       "      <td>3.95</td>\n",
       "      <td>17</td>\n",
       "    </tr>\n",
       "    <tr>\n",
       "      <th>2</th>\n",
       "      <td>12390</td>\n",
       "      <td>2015-09-08 17:31:00</td>\n",
       "      <td>52</td>\n",
       "      <td>Onion Bhaji</td>\n",
       "      <td>3.95</td>\n",
       "      <td>1</td>\n",
       "      <td>3.95</td>\n",
       "      <td>17</td>\n",
       "    </tr>\n",
       "    <tr>\n",
       "      <th>3</th>\n",
       "      <td>12389</td>\n",
       "      <td>2015-09-08 17:56:00</td>\n",
       "      <td>52</td>\n",
       "      <td>Onion Bhaji</td>\n",
       "      <td>3.95</td>\n",
       "      <td>1</td>\n",
       "      <td>3.95</td>\n",
       "      <td>17</td>\n",
       "    </tr>\n",
       "    <tr>\n",
       "      <th>4</th>\n",
       "      <td>12388</td>\n",
       "      <td>2015-09-09 09:31:00</td>\n",
       "      <td>52</td>\n",
       "      <td>Onion Bhaji</td>\n",
       "      <td>3.95</td>\n",
       "      <td>1</td>\n",
       "      <td>3.95</td>\n",
       "      <td>9</td>\n",
       "    </tr>\n",
       "    <tr>\n",
       "      <th>...</th>\n",
       "      <td>...</td>\n",
       "      <td>...</td>\n",
       "      <td>...</td>\n",
       "      <td>...</td>\n",
       "      <td>...</td>\n",
       "      <td>...</td>\n",
       "      <td>...</td>\n",
       "      <td>...</td>\n",
       "    </tr>\n",
       "    <tr>\n",
       "      <th>74813</th>\n",
       "      <td>1</td>\n",
       "      <td>2019-08-03 20:25:00</td>\n",
       "      <td>240</td>\n",
       "      <td>King Prawn Balti</td>\n",
       "      <td>12.95</td>\n",
       "      <td>1</td>\n",
       "      <td>12.95</td>\n",
       "      <td>20</td>\n",
       "    </tr>\n",
       "    <tr>\n",
       "      <th>74814</th>\n",
       "      <td>1</td>\n",
       "      <td>2019-08-03 20:25:00</td>\n",
       "      <td>19</td>\n",
       "      <td>Garlic Naan</td>\n",
       "      <td>2.95</td>\n",
       "      <td>1</td>\n",
       "      <td>2.95</td>\n",
       "      <td>20</td>\n",
       "    </tr>\n",
       "    <tr>\n",
       "      <th>74815</th>\n",
       "      <td>1</td>\n",
       "      <td>2019-08-03 20:25:00</td>\n",
       "      <td>36</td>\n",
       "      <td>Mushroom Rice</td>\n",
       "      <td>3.95</td>\n",
       "      <td>1</td>\n",
       "      <td>3.95</td>\n",
       "      <td>20</td>\n",
       "    </tr>\n",
       "    <tr>\n",
       "      <th>74816</th>\n",
       "      <td>1</td>\n",
       "      <td>2019-08-03 20:25:00</td>\n",
       "      <td>111</td>\n",
       "      <td>Paneer Tikka Masala</td>\n",
       "      <td>8.95</td>\n",
       "      <td>1</td>\n",
       "      <td>8.95</td>\n",
       "      <td>20</td>\n",
       "    </tr>\n",
       "    <tr>\n",
       "      <th>74817</th>\n",
       "      <td>1</td>\n",
       "      <td>2019-08-03 20:25:00</td>\n",
       "      <td>3</td>\n",
       "      <td>Mango Chutney</td>\n",
       "      <td>0.50</td>\n",
       "      <td>1</td>\n",
       "      <td>0.50</td>\n",
       "      <td>20</td>\n",
       "    </tr>\n",
       "  </tbody>\n",
       "</table>\n",
       "<p>74818 rows × 8 columns</p>\n",
       "</div>"
      ]
     },
     "execution_count": 73,
     "metadata": {},
     "output_type": "execute_result"
    }
   ],
   "execution_count": 73
  },
  {
   "metadata": {
    "ExecuteTime": {
     "end_time": "2024-11-12T13:43:58.860762Z",
     "start_time": "2024-11-12T13:43:58.852434Z"
    }
   },
   "cell_type": "code",
   "source": [
    "hours_statistic_df = restaurant_df.groupby(\"order_hour\")[\"total_price\"].sum()\n",
    "hours_statistic_df"
   ],
   "outputs": [
    {
     "data": {
      "text/plain": [
       "order_hour\n",
       "0        177.95\n",
       "1         54.65\n",
       "2        199.25\n",
       "3          8.90\n",
       "4         63.45\n",
       "5         57.40\n",
       "6        121.60\n",
       "8        447.70\n",
       "9        570.60\n",
       "10      1250.35\n",
       "11      3807.05\n",
       "12     10565.85\n",
       "13      8282.65\n",
       "14      3343.55\n",
       "15      3781.70\n",
       "16     15634.75\n",
       "17     72110.20\n",
       "18    132462.50\n",
       "19    109045.05\n",
       "20     50218.25\n",
       "21     21480.30\n",
       "22     11001.50\n",
       "23       373.25\n",
       "Name: total_price, dtype: float64"
      ]
     },
     "execution_count": 74,
     "metadata": {},
     "output_type": "execute_result"
    }
   ],
   "execution_count": 74
  },
  {
   "metadata": {
    "ExecuteTime": {
     "end_time": "2024-11-12T13:43:59.052750Z",
     "start_time": "2024-11-12T13:43:58.937406Z"
    }
   },
   "cell_type": "code",
   "source": [
    "plt.figure(figsize=(10, 6))\n",
    "plt.bar(hours_statistic_df.index, hours_statistic_df.values, color=\"skyblue\")\n",
    "plt.title(\"Profit by order hour\")\n",
    "plt.xlabel(\"Order hour\")\n",
    "plt.ylabel(\"Total Sales (Price)\")\n",
    "plt.xticks(hours_statistic_df.index)  # Set x-ticks to the hour values\n",
    "plt.grid(axis=\"y\")\n",
    "plt.show()"
   ],
   "outputs": [
    {
     "data": {
      "text/plain": [
       "<Figure size 1000x600 with 1 Axes>"
      ],
      "image/png": "[encoded data removed]"
     },
     "metadata": {},
     "output_type": "display_data"
    }
   ],
   "execution_count": 75
  },
  {
   "cell_type": "markdown",
   "source": [
    "# Task 4\n",
    "Make similar bar chart, but right now with `Order Day Of The Week` (from Monday to Sunday), and also analyze total restaurant income by each day of the week."
   ],
   "metadata": {
    "collapsed": false,
    "pycharm": {
     "name": "#%% md\n"
    }
   }
  },
  {
   "cell_type": "code",
   "source": [
    "# write your code here\n",
    "restaurant_df[\"order_day_of_the_week\"] = restaurant_df[\"order_datetime\"].dt.day_name()\n",
    "restaurant_df"
   ],
   "metadata": {
    "collapsed": false,
    "pycharm": {
     "name": "#%%\n"
    },
    "ExecuteTime": {
     "end_time": "2024-11-12T13:47:27.025165Z",
     "start_time": "2024-11-12T13:47:27.005138Z"
    }
   },
   "outputs": [
    {
     "data": {
      "text/plain": [
       "       order_id      order_datetime  product_id         product_name  \\\n",
       "0         12392 2015-09-01 14:42:00          52          Onion Bhaji   \n",
       "1         12391 2015-09-08 17:12:00          52          Onion Bhaji   \n",
       "2         12390 2015-09-08 17:31:00          52          Onion Bhaji   \n",
       "3         12389 2015-09-08 17:56:00          52          Onion Bhaji   \n",
       "4         12388 2015-09-09 09:31:00          52          Onion Bhaji   \n",
       "...         ...                 ...         ...                  ...   \n",
       "74813         1 2019-08-03 20:25:00         240     King Prawn Balti   \n",
       "74814         1 2019-08-03 20:25:00          19          Garlic Naan   \n",
       "74815         1 2019-08-03 20:25:00          36        Mushroom Rice   \n",
       "74816         1 2019-08-03 20:25:00         111  Paneer Tikka Masala   \n",
       "74817         1 2019-08-03 20:25:00           3        Mango Chutney   \n",
       "\n",
       "       product_price  quantity  total_price  order_hour order_day_of_the_week  \n",
       "0               3.95         1         3.95          14               Tuesday  \n",
       "1               3.95         1         3.95          17               Tuesday  \n",
       "2               3.95         1         3.95          17               Tuesday  \n",
       "3               3.95         1         3.95          17               Tuesday  \n",
       "4               3.95         1         3.95           9             Wednesday  \n",
       "...              ...       ...          ...         ...                   ...  \n",
       "74813          12.95         1        12.95          20              Saturday  \n",
       "74814           2.95         1         2.95          20              Saturday  \n",
       "74815           3.95         1         3.95          20              Saturday  \n",
       "74816           8.95         1         8.95          20              Saturday  \n",
       "74817           0.50         1         0.50          20              Saturday  \n",
       "\n",
       "[74818 rows x 9 columns]"
      ],
      "text/html": [
       "<div>\n",
       "<style scoped>\n",
       "    .dataframe tbody tr th:only-of-type {\n",
       "        vertical-align: middle;\n",
       "    }\n",
       "\n",
       "    .dataframe tbody tr th {\n",
       "        vertical-align: top;\n",
       "    }\n",
       "\n",
       "    .dataframe thead th {\n",
       "        text-align: right;\n",
       "    }\n",
       "</style>\n",
       "<table border=\"1\" class=\"dataframe\">\n",
       "  <thead>\n",
       "    <tr style=\"text-align: right;\">\n",
       "      <th></th>\n",
       "      <th>order_id</th>\n",
       "      <th>order_datetime</th>\n",
       "      <th>product_id</th>\n",
       "      <th>product_name</th>\n",
       "      <th>product_price</th>\n",
       "      <th>quantity</th>\n",
       "      <th>total_price</th>\n",
       "      <th>order_hour</th>\n",
       "      <th>order_day_of_the_week</th>\n",
       "    </tr>\n",
       "  </thead>\n",
       "  <tbody>\n",
       "    <tr>\n",
       "      <th>0</th>\n",
       "      <td>12392</td>\n",
       "      <td>2015-09-01 14:42:00</td>\n",
       "      <td>52</td>\n",
       "      <td>Onion Bhaji</td>\n",
       "      <td>3.95</td>\n",
       "      <td>1</td>\n",
       "      <td>3.95</td>\n",
       "      <td>14</td>\n",
       "      <td>Tuesday</td>\n",
       "    </tr>\n",
       "    <tr>\n",
       "      <th>1</th>\n",
       "      <td>12391</td>\n",
       "      <td>2015-09-08 17:12:00</td>\n",
       "      <td>52</td>\n",
       "      <td>Onion Bhaji</td>\n",
       "      <td>3.95</td>\n",
       "      <td>1</td>\n",
       "      <td>3.95</td>\n",
       "      <td>17</td>\n",
       "      <td>Tuesday</td>\n",
       "    </tr>\n",
       "    <tr>\n",
       "      <th>2</th>\n",
       "      <td>12390</td>\n",
       "      <td>2015-09-08 17:31:00</td>\n",
       "      <td>52</td>\n",
       "      <td>Onion Bhaji</td>\n",
       "      <td>3.95</td>\n",
       "      <td>1</td>\n",
       "      <td>3.95</td>\n",
       "      <td>17</td>\n",
       "      <td>Tuesday</td>\n",
       "    </tr>\n",
       "    <tr>\n",
       "      <th>3</th>\n",
       "      <td>12389</td>\n",
       "      <td>2015-09-08 17:56:00</td>\n",
       "      <td>52</td>\n",
       "      <td>Onion Bhaji</td>\n",
       "      <td>3.95</td>\n",
       "      <td>1</td>\n",
       "      <td>3.95</td>\n",
       "      <td>17</td>\n",
       "      <td>Tuesday</td>\n",
       "    </tr>\n",
       "    <tr>\n",
       "      <th>4</th>\n",
       "      <td>12388</td>\n",
       "      <td>2015-09-09 09:31:00</td>\n",
       "      <td>52</td>\n",
       "      <td>Onion Bhaji</td>\n",
       "      <td>3.95</td>\n",
       "      <td>1</td>\n",
       "      <td>3.95</td>\n",
       "      <td>9</td>\n",
       "      <td>Wednesday</td>\n",
       "    </tr>\n",
       "    <tr>\n",
       "      <th>...</th>\n",
       "      <td>...</td>\n",
       "      <td>...</td>\n",
       "      <td>...</td>\n",
       "      <td>...</td>\n",
       "      <td>...</td>\n",
       "      <td>...</td>\n",
       "      <td>...</td>\n",
       "      <td>...</td>\n",
       "      <td>...</td>\n",
       "    </tr>\n",
       "    <tr>\n",
       "      <th>74813</th>\n",
       "      <td>1</td>\n",
       "      <td>2019-08-03 20:25:00</td>\n",
       "      <td>240</td>\n",
       "      <td>King Prawn Balti</td>\n",
       "      <td>12.95</td>\n",
       "      <td>1</td>\n",
       "      <td>12.95</td>\n",
       "      <td>20</td>\n",
       "      <td>Saturday</td>\n",
       "    </tr>\n",
       "    <tr>\n",
       "      <th>74814</th>\n",
       "      <td>1</td>\n",
       "      <td>2019-08-03 20:25:00</td>\n",
       "      <td>19</td>\n",
       "      <td>Garlic Naan</td>\n",
       "      <td>2.95</td>\n",
       "      <td>1</td>\n",
       "      <td>2.95</td>\n",
       "      <td>20</td>\n",
       "      <td>Saturday</td>\n",
       "    </tr>\n",
       "    <tr>\n",
       "      <th>74815</th>\n",
       "      <td>1</td>\n",
       "      <td>2019-08-03 20:25:00</td>\n",
       "      <td>36</td>\n",
       "      <td>Mushroom Rice</td>\n",
       "      <td>3.95</td>\n",
       "      <td>1</td>\n",
       "      <td>3.95</td>\n",
       "      <td>20</td>\n",
       "      <td>Saturday</td>\n",
       "    </tr>\n",
       "    <tr>\n",
       "      <th>74816</th>\n",
       "      <td>1</td>\n",
       "      <td>2019-08-03 20:25:00</td>\n",
       "      <td>111</td>\n",
       "      <td>Paneer Tikka Masala</td>\n",
       "      <td>8.95</td>\n",
       "      <td>1</td>\n",
       "      <td>8.95</td>\n",
       "      <td>20</td>\n",
       "      <td>Saturday</td>\n",
       "    </tr>\n",
       "    <tr>\n",
       "      <th>74817</th>\n",
       "      <td>1</td>\n",
       "      <td>2019-08-03 20:25:00</td>\n",
       "      <td>3</td>\n",
       "      <td>Mango Chutney</td>\n",
       "      <td>0.50</td>\n",
       "      <td>1</td>\n",
       "      <td>0.50</td>\n",
       "      <td>20</td>\n",
       "      <td>Saturday</td>\n",
       "    </tr>\n",
       "  </tbody>\n",
       "</table>\n",
       "<p>74818 rows × 9 columns</p>\n",
       "</div>"
      ]
     },
     "execution_count": 81,
     "metadata": {},
     "output_type": "execute_result"
    }
   ],
   "execution_count": 81
  },
  {
   "metadata": {
    "ExecuteTime": {
     "end_time": "2024-11-12T13:48:58.622948Z",
     "start_time": "2024-11-12T13:48:58.600432Z"
    }
   },
   "cell_type": "code",
   "source": [
    "total_rest_income_by_week_day_df = restaurant_df.groupby(\"order_day_of_the_week\")[\"total_price\"].sum()\n",
    "total_rest_income_by_week_day_df"
   ],
   "outputs": [
    {
     "data": {
      "text/plain": [
       "order_day_of_the_week\n",
       "Friday       100339.15\n",
       "Monday        40008.30\n",
       "Saturday     112191.65\n",
       "Sunday        67105.95\n",
       "Thursday      46021.55\n",
       "Tuesday       38145.65\n",
       "Wednesday     41246.20\n",
       "Name: total_price, dtype: float64"
      ]
     },
     "execution_count": 82,
     "metadata": {},
     "output_type": "execute_result"
    }
   ],
   "execution_count": 82
  },
  {
   "metadata": {
    "ExecuteTime": {
     "end_time": "2024-11-12T13:50:05.265440Z",
     "start_time": "2024-11-12T13:50:05.183160Z"
    }
   },
   "cell_type": "code",
   "source": [
    "plt.figure(figsize=(10, 6))\n",
    "plt.bar(total_rest_income_by_week_day_df.index, total_rest_income_by_week_day_df.values, color=\"skyblue\")\n",
    "plt.title(\"Profit by order day of the week\")\n",
    "plt.xlabel(\"Day of the week\")\n",
    "plt.ylabel(\"Total Sales (Price)\")\n",
    "plt.xticks(total_rest_income_by_week_day_df.index)  # Set x-ticks to the hour values\n",
    "plt.grid(axis=\"y\")\n",
    "plt.show()\n"
   ],
   "outputs": [
    {
     "data": {
      "text/plain": [
       "<Figure size 1000x600 with 1 Axes>"
      ],
      "image/png": "[encoded data removed]"
     },
     "metadata": {},
     "output_type": "display_data"
    }
   ],
   "execution_count": 85
  }
 ],
 "metadata": {
  "kernelspec": {
   "display_name": "Python 3",
   "language": "python",
   "name": "python3"
  },
  "language_info": {
   "codemirror_mode": {
    "name": "ipython",
    "version": 2
   },
   "file_extension": ".py",
   "mimetype": "text/x-python",
   "name": "python",
   "nbconvert_exporter": "python",
   "pygments_lexer": "ipython2",
   "version": "2.7.6"
  }
 },
 "nbformat": 4,
 "nbformat_minor": 0
}
